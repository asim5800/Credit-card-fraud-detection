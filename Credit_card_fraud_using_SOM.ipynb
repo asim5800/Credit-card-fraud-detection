{
  "nbformat": 4,
  "nbformat_minor": 0,
  "metadata": {
    "colab": {
      "name": " Credit card fraud using SOM.ipynb",
      "provenance": [],
      "collapsed_sections": [],
      "include_colab_link": true
    },
    "kernelspec": {
      "name": "python3",
      "display_name": "Python 3"
    }
  },
  "cells": [
    {
      "cell_type": "markdown",
      "metadata": {
        "id": "view-in-github",
        "colab_type": "text"
      },
      "source": [
        "<a href=\"https://colab.research.google.com/github/asim5800/Credit-card-fraud-detection/blob/main/Credit_card_fraud_using_SOM.ipynb\" target=\"_parent\"><img src=\"https://colab.research.google.com/assets/colab-badge.svg\" alt=\"Open In Colab\"/></a>"
      ]
    },
    {
      "cell_type": "markdown",
      "metadata": {
        "id": "t9oX7AL3nyLm"
      },
      "source": [
        "#***Self Organizing Map***"
      ]
    },
    {
      "cell_type": "markdown",
      "metadata": {
        "id": "baJpo75TOozF"
      },
      "source": [
        "#**Let's imagine we are deep learning scientists working for a bank and we are given a data set that contains information of customers from this bank applying for an advanced credit card. So basically, these informations are the data that customers had to provide when filling the application form.And our mission, is to detect potential fraud within these applications.**\n",
        "\n",
        "***So that means that by the end of the mission,we have to give the explicit list,of the customers who potentially cheated.***\n",
        "\n",
        "***What we're gonna do is unsupervised deep learning,which means that we will identify some patterns in a high dimensional data sets full of nonlinear relationships.And one of these patterns will be the potential fraud.***"
      ]
    },
    {
      "cell_type": "markdown",
      "metadata": {
        "id": "3RhRF2P-U5ui"
      },
      "source": [
        "The data  set is taken from theUCI Machine Learning Repository,it is called the Statlog Australian Credit Approval Data Set.\n",
        "\n",
        "\n",
        "[DATASET LINK](http://archive.ics.uci.edu/ml/datasets/statlog+(australian+credit+approval))\n",
        "\n",
        "\n",
        "\n",
        "\n",
        "\n",
        "***All attribute names and values has been changed to meaningless symbols to protect confidentiality of the data. This problem even more complex and difficult to solve for human, indeed when we see the data set, we feel totally incapable of detecting any fraud.***\n",
        "\n",
        "***So we clearly need a deep learning model to find the cheaters.***"
      ]
    },
    {
      "cell_type": "markdown",
      "metadata": {
        "id": "r9maNhdd65pB"
      },
      "source": [
        "##Install MiniSom Package"
      ]
    },
    {
      "cell_type": "code",
      "metadata": {
        "id": "1KB28WUso0Bj",
        "colab": {
          "base_uri": "https://localhost:8080/"
        },
        "outputId": "1509c68c-a2c0-4c16-a18a-af7f19b46022"
      },
      "source": [
        "!pip install MiniSom"
      ],
      "execution_count": 15,
      "outputs": [
        {
          "output_type": "stream",
          "name": "stdout",
          "text": [
            "Requirement already satisfied: MiniSom in /usr/local/lib/python3.7/dist-packages (2.2.9)\n"
          ]
        }
      ]
    },
    {
      "cell_type": "markdown",
      "metadata": {
        "id": "XJCuOpleTS9i"
      },
      "source": [
        "**MiniSom is a minimalistic and Numpy based implementation of the Self Organizing Maps (SOM). SOM is a type of Artificial Neural Network able to convert complex, nonlinear statistical relationships between high-dimensional data items into simple geometric relationships on a low-dimensional display. Minisom is designed to allow researchers to easily build on top of it and to give students the ability to quickly grasp its details.**"
      ]
    },
    {
      "cell_type": "markdown",
      "metadata": {
        "id": "6AX0Y23PnyOI"
      },
      "source": [
        "### Importing the libraries\n"
      ]
    },
    {
      "cell_type": "code",
      "metadata": {
        "colab": {
          "base_uri": "https://localhost:8080/"
        },
        "id": "zmHQ2zwqTYVO",
        "outputId": "09b0c514-a71b-4b21-fb36-c70a2e87b16c"
      },
      "source": [
        "from google.colab import drive\n",
        "drive.mount('/content/drive')"
      ],
      "execution_count": 16,
      "outputs": [
        {
          "output_type": "stream",
          "name": "stdout",
          "text": [
            "Drive already mounted at /content/drive; to attempt to forcibly remount, call drive.mount(\"/content/drive\", force_remount=True).\n"
          ]
        }
      ]
    },
    {
      "cell_type": "code",
      "metadata": {
        "id": "gaSkOFKKBB3b"
      },
      "source": [
        "import numpy as np\n",
        "import pandas as pd\n",
        "import matplotlib.pyplot as plt"
      ],
      "execution_count": 17,
      "outputs": []
    },
    {
      "cell_type": "markdown",
      "metadata": {
        "id": "SCl7ERn_n539"
      },
      "source": [
        "## Importing the dataset"
      ]
    },
    {
      "cell_type": "code",
      "metadata": {
        "id": "4hgeaN3CoRfl"
      },
      "source": [
        "dataset = pd.read_csv('/content/drive/MyDrive/UNSUPERVISED DEEP LEARNING/Credit_Card_Applications.csv')\n"
      ],
      "execution_count": 18,
      "outputs": []
    },
    {
      "cell_type": "code",
      "metadata": {
        "colab": {
          "base_uri": "https://localhost:8080/"
        },
        "id": "AIsXyLiBUBxt",
        "outputId": "f791335f-2a12-4070-9c58-81a0199beba8"
      },
      "source": [
        "dataset.info()"
      ],
      "execution_count": 19,
      "outputs": [
        {
          "output_type": "stream",
          "name": "stdout",
          "text": [
            "<class 'pandas.core.frame.DataFrame'>\n",
            "RangeIndex: 690 entries, 0 to 689\n",
            "Data columns (total 16 columns):\n",
            " #   Column      Non-Null Count  Dtype  \n",
            "---  ------      --------------  -----  \n",
            " 0   CustomerID  690 non-null    int64  \n",
            " 1   A1          690 non-null    int64  \n",
            " 2   A2          690 non-null    float64\n",
            " 3   A3          690 non-null    float64\n",
            " 4   A4          690 non-null    int64  \n",
            " 5   A5          690 non-null    int64  \n",
            " 6   A6          690 non-null    int64  \n",
            " 7   A7          690 non-null    float64\n",
            " 8   A8          690 non-null    int64  \n",
            " 9   A9          690 non-null    int64  \n",
            " 10  A10         690 non-null    int64  \n",
            " 11  A11         690 non-null    int64  \n",
            " 12  A12         690 non-null    int64  \n",
            " 13  A13         690 non-null    int64  \n",
            " 14  A14         690 non-null    int64  \n",
            " 15  Class       690 non-null    int64  \n",
            "dtypes: float64(3), int64(13)\n",
            "memory usage: 86.4 KB\n"
          ]
        }
      ]
    },
    {
      "cell_type": "code",
      "metadata": {
        "colab": {
          "base_uri": "https://localhost:8080/",
          "height": 142
        },
        "id": "oyMjjzVpULHC",
        "outputId": "6d29024d-0deb-4a34-9c9a-f12a355704ed"
      },
      "source": [
        "dataset.head(3)"
      ],
      "execution_count": 20,
      "outputs": [
        {
          "output_type": "execute_result",
          "data": {
            "text/html": [
              "<div>\n",
              "<style scoped>\n",
              "    .dataframe tbody tr th:only-of-type {\n",
              "        vertical-align: middle;\n",
              "    }\n",
              "\n",
              "    .dataframe tbody tr th {\n",
              "        vertical-align: top;\n",
              "    }\n",
              "\n",
              "    .dataframe thead th {\n",
              "        text-align: right;\n",
              "    }\n",
              "</style>\n",
              "<table border=\"1\" class=\"dataframe\">\n",
              "  <thead>\n",
              "    <tr style=\"text-align: right;\">\n",
              "      <th></th>\n",
              "      <th>CustomerID</th>\n",
              "      <th>A1</th>\n",
              "      <th>A2</th>\n",
              "      <th>A3</th>\n",
              "      <th>A4</th>\n",
              "      <th>A5</th>\n",
              "      <th>A6</th>\n",
              "      <th>A7</th>\n",
              "      <th>A8</th>\n",
              "      <th>A9</th>\n",
              "      <th>A10</th>\n",
              "      <th>A11</th>\n",
              "      <th>A12</th>\n",
              "      <th>A13</th>\n",
              "      <th>A14</th>\n",
              "      <th>Class</th>\n",
              "    </tr>\n",
              "  </thead>\n",
              "  <tbody>\n",
              "    <tr>\n",
              "      <th>0</th>\n",
              "      <td>15776156</td>\n",
              "      <td>1</td>\n",
              "      <td>22.08</td>\n",
              "      <td>11.46</td>\n",
              "      <td>2</td>\n",
              "      <td>4</td>\n",
              "      <td>4</td>\n",
              "      <td>1.585</td>\n",
              "      <td>0</td>\n",
              "      <td>0</td>\n",
              "      <td>0</td>\n",
              "      <td>1</td>\n",
              "      <td>2</td>\n",
              "      <td>100</td>\n",
              "      <td>1213</td>\n",
              "      <td>0</td>\n",
              "    </tr>\n",
              "    <tr>\n",
              "      <th>1</th>\n",
              "      <td>15739548</td>\n",
              "      <td>0</td>\n",
              "      <td>22.67</td>\n",
              "      <td>7.00</td>\n",
              "      <td>2</td>\n",
              "      <td>8</td>\n",
              "      <td>4</td>\n",
              "      <td>0.165</td>\n",
              "      <td>0</td>\n",
              "      <td>0</td>\n",
              "      <td>0</td>\n",
              "      <td>0</td>\n",
              "      <td>2</td>\n",
              "      <td>160</td>\n",
              "      <td>1</td>\n",
              "      <td>0</td>\n",
              "    </tr>\n",
              "    <tr>\n",
              "      <th>2</th>\n",
              "      <td>15662854</td>\n",
              "      <td>0</td>\n",
              "      <td>29.58</td>\n",
              "      <td>1.75</td>\n",
              "      <td>1</td>\n",
              "      <td>4</td>\n",
              "      <td>4</td>\n",
              "      <td>1.250</td>\n",
              "      <td>0</td>\n",
              "      <td>0</td>\n",
              "      <td>0</td>\n",
              "      <td>1</td>\n",
              "      <td>2</td>\n",
              "      <td>280</td>\n",
              "      <td>1</td>\n",
              "      <td>0</td>\n",
              "    </tr>\n",
              "  </tbody>\n",
              "</table>\n",
              "</div>"
            ],
            "text/plain": [
              "   CustomerID  A1     A2     A3  A4  A5  ...  A10  A11  A12  A13   A14  Class\n",
              "0    15776156   1  22.08  11.46   2   4  ...    0    1    2  100  1213      0\n",
              "1    15739548   0  22.67   7.00   2   8  ...    0    0    2  160     1      0\n",
              "2    15662854   0  29.58   1.75   1   4  ...    0    1    2  280     1      0\n",
              "\n",
              "[3 rows x 16 columns]"
            ]
          },
          "metadata": {},
          "execution_count": 20
        }
      ]
    },
    {
      "cell_type": "code",
      "metadata": {
        "id": "nOOYlAPyUAhh"
      },
      "source": [
        "#SPLIT DATASET INTO TWO\n",
        "X = dataset.iloc[:, :-1].values #taking all rows and all columns except the last one\n",
        "y = dataset.iloc[:, -1].values # taking only last column"
      ],
      "execution_count": 21,
      "outputs": []
    },
    {
      "cell_type": "markdown",
      "metadata": {
        "id": "sJERAWTQIdeg"
      },
      "source": [
        "***Important point to make,we splited our data sets into x and y. But be careful we did not do that because we're doing some supervised learning, we're not trying to make a model that will predict zero or one in the end.***\n",
        "\n",
        "***We're just doing this to make the distinction in the end between the customers who were approved and the customers who were not approved.***"
      ]
    },
    {
      "cell_type": "markdown",
      "metadata": {
        "id": "fYHJ0dd6n-d4"
      },
      "source": [
        "## Feature Scaling\n"
      ]
    },
    {
      "cell_type": "code",
      "metadata": {
        "id": "sY7JiUxwoSOd"
      },
      "source": [
        "from sklearn.preprocessing import MinMaxScaler #as it is DL its better to normalise 0 to 1\n",
        "sc = MinMaxScaler(feature_range = (0,1))\n",
        "X = sc.fit_transform(X)"
      ],
      "execution_count": 22,
      "outputs": []
    },
    {
      "cell_type": "code",
      "metadata": {
        "colab": {
          "base_uri": "https://localhost:8080/"
        },
        "id": "Sk74kFSIJCXG",
        "outputId": "e50df330-da6e-43ff-bb14-167f5b50b20e"
      },
      "source": [
        "X"
      ],
      "execution_count": 23,
      "outputs": [
        {
          "output_type": "execute_result",
          "data": {
            "text/plain": [
              "array([[8.42681467e-01, 1.00000000e+00, 1.25263158e-01, ...,\n",
              "        5.00000000e-01, 5.00000000e-02, 1.21200000e-02],\n",
              "       [6.96090562e-01, 0.00000000e+00, 1.34135338e-01, ...,\n",
              "        5.00000000e-01, 8.00000000e-02, 0.00000000e+00],\n",
              "       [3.88981656e-01, 0.00000000e+00, 2.38045113e-01, ...,\n",
              "        5.00000000e-01, 1.40000000e-01, 0.00000000e+00],\n",
              "       ...,\n",
              "       [4.39420332e-01, 0.00000000e+00, 7.63909774e-02, ...,\n",
              "        5.00000000e-01, 5.00000000e-02, 0.00000000e+00],\n",
              "       [8.44034934e-01, 0.00000000e+00, 2.05563910e-01, ...,\n",
              "        5.00000000e-01, 6.00000000e-02, 1.10000000e-04],\n",
              "       [1.06907888e-01, 1.00000000e+00, 4.09774436e-01, ...,\n",
              "        0.00000000e+00, 2.80000000e-01, 0.00000000e+00]])"
            ]
          },
          "metadata": {},
          "execution_count": 23
        }
      ]
    },
    {
      "cell_type": "markdown",
      "metadata": {
        "id": "aPp-7wfNoAhR"
      },
      "source": [
        "##Training the SOM\n"
      ]
    },
    {
      "cell_type": "code",
      "metadata": {
        "id": "3iuAhM6ooS0k"
      },
      "source": [
        "from minisom import MiniSom\n",
        "som = MiniSom(x=10, y=10, input_len= 15, sigma= 1.0, learning_rate = 0.5)   \n",
        "som.random_weights_init(X)\n",
        "som.train_random(data = X, num_iteration = 100)"
      ],
      "execution_count": 24,
      "outputs": []
    },
    {
      "cell_type": "markdown",
      "metadata": {
        "id": "LNgsJrDcK_kB"
      },
      "source": [
        "***Inputs in MINISOM***\n",
        "\n",
        "***Make 10X10 map (choose optimal according to data)***\n",
        "\n",
        "***number of feature in dataset in 'X' only***\n",
        "\n",
        "***sigma is the radius***"
      ]
    },
    {
      "cell_type": "markdown",
      "metadata": {
        "id": "YiU27C-ToCnH"
      },
      "source": [
        "##Visualizing the results\n"
      ]
    },
    {
      "cell_type": "code",
      "metadata": {
        "id": "XzrIX4fZoTQj",
        "colab": {
          "base_uri": "https://localhost:8080/",
          "height": 269
        },
        "outputId": "24a2dfb5-8dd0-46a0-a094-823e24a55909"
      },
      "source": [
        "from pylab import bone, pcolor, colorbar, plot, show\n",
        "bone()\n",
        "pcolor(som.distance_map().T) # put the different winning nodes on the map.\n",
        "\n",
        "\n",
        "colorbar() #showing which MID corresponds to which color, smaller MID dark color, bigger MID  light color\n",
        "markers = ['o', 's']\n",
        "colors = ['r', 'g']\n",
        "for i, x in enumerate(X): # i for customer numbers, x for each customer\n",
        "    w = som.winner(x)    # get winning node of first customers\n",
        "    plot(w[0] + 0.5,     # 100 winning node for 690 rows\n",
        "         w[1] + 0.5,\n",
        "         markers[y[i]],   \n",
        "         markeredgecolor = colors[y[i]],\n",
        "         markerfacecolor = 'None',\n",
        "         markersize = 10,\n",
        "         markeredgewidth = 2)\n",
        "show()"
      ],
      "execution_count": 25,
      "outputs": [
        {
          "output_type": "display_data",
          "data": {
            "image/png": "[encoded data removed]",
            "text/plain": [
              "<Figure size 432x288 with 2 Axes>"
            ]
          },
          "metadata": {
            "needs_background": "light"
          }
        }
      ]
    },
    {
      "cell_type": "markdown",
      "metadata": {
        "id": "_euOCg0mPwOa"
      },
      "source": [
        "The red circles are going to correspond to the customers who didn't get approval.\n",
        "\n",
        "And the green squares will correspond to the customers who got approval."
      ]
    },
    {
      "cell_type": "markdown",
      "metadata": {
        "id": "RJSia9jYR1nH"
      },
      "source": [
        "OBSERVE (9,9) white(light) color absolutely no doubt the Mean Interneuron Distance\n",
        "is almost equal to one or perhaps equal to one.\n",
        "Which clearly indicates that there is a high risk \n",
        "of fraud for these customers associated to these two winning nodes."
      ]
    },
    {
      "cell_type": "markdown",
      "metadata": {
        "id": "4C-I_jBfoEkP"
      },
      "source": [
        "## Finding the frauds\n"
      ]
    },
    {
      "cell_type": "code",
      "metadata": {
        "id": "4xd-jb8doTlM"
      },
      "source": [
        "#inverse mapping of winning nodes back to customers  mappings where white sqaure shows in this map 8,8; 9,9; 3,3\n",
        "mappings = som.win_map(X)\n",
        "frauds = np.concatenate((mappings[(9,9)], mappings[(8,8)],  mappings[(3,3)]), axis = 0)\n",
        "frauds = sc.inverse_transform(frauds)"
      ],
      "execution_count": 26,
      "outputs": []
    },
    {
      "cell_type": "markdown",
      "metadata": {
        "id": "frXqAlpo84b1"
      },
      "source": [
        "##Printing the Fraunch Clients"
      ]
    },
    {
      "cell_type": "code",
      "metadata": {
        "colab": {
          "base_uri": "https://localhost:8080/",
          "height": 886
        },
        "id": "0_ar5X1FVwzd",
        "outputId": "4df862f0-273a-48cf-c363-2e2263c25dbc"
      },
      "source": [
        "#converting array back to dataframe\n",
        "dataframe=pd.DataFrame(frauds) \n",
        "\n",
        "dataframe\n"
      ],
      "execution_count": 27,
      "outputs": [
        {
          "output_type": "execute_result",
          "data": {
            "text/html": [
              "<div>\n",
              "<style scoped>\n",
              "    .dataframe tbody tr th:only-of-type {\n",
              "        vertical-align: middle;\n",
              "    }\n",
              "\n",
              "    .dataframe tbody tr th {\n",
              "        vertical-align: top;\n",
              "    }\n",
              "\n",
              "    .dataframe thead th {\n",
              "        text-align: right;\n",
              "    }\n",
              "</style>\n",
              "<table border=\"1\" class=\"dataframe\">\n",
              "  <thead>\n",
              "    <tr style=\"text-align: right;\">\n",
              "      <th></th>\n",
              "      <th>0</th>\n",
              "      <th>1</th>\n",
              "      <th>2</th>\n",
              "      <th>3</th>\n",
              "      <th>4</th>\n",
              "      <th>5</th>\n",
              "      <th>6</th>\n",
              "      <th>7</th>\n",
              "      <th>8</th>\n",
              "      <th>9</th>\n",
              "      <th>10</th>\n",
              "      <th>11</th>\n",
              "      <th>12</th>\n",
              "      <th>13</th>\n",
              "      <th>14</th>\n",
              "    </tr>\n",
              "  </thead>\n",
              "  <tbody>\n",
              "    <tr>\n",
              "      <th>0</th>\n",
              "      <td>15686461.0</td>\n",
              "      <td>1.0</td>\n",
              "      <td>25.00</td>\n",
              "      <td>12.500</td>\n",
              "      <td>2.0</td>\n",
              "      <td>6.0</td>\n",
              "      <td>4.0</td>\n",
              "      <td>3.000</td>\n",
              "      <td>1.0</td>\n",
              "      <td>0.0</td>\n",
              "      <td>0.0</td>\n",
              "      <td>1.0</td>\n",
              "      <td>1.0</td>\n",
              "      <td>20.0</td>\n",
              "      <td>1.0</td>\n",
              "    </tr>\n",
              "    <tr>\n",
              "      <th>1</th>\n",
              "      <td>15686885.0</td>\n",
              "      <td>1.0</td>\n",
              "      <td>37.17</td>\n",
              "      <td>4.000</td>\n",
              "      <td>2.0</td>\n",
              "      <td>8.0</td>\n",
              "      <td>5.0</td>\n",
              "      <td>5.000</td>\n",
              "      <td>1.0</td>\n",
              "      <td>0.0</td>\n",
              "      <td>0.0</td>\n",
              "      <td>1.0</td>\n",
              "      <td>1.0</td>\n",
              "      <td>280.0</td>\n",
              "      <td>1.0</td>\n",
              "    </tr>\n",
              "    <tr>\n",
              "      <th>2</th>\n",
              "      <td>15680895.0</td>\n",
              "      <td>1.0</td>\n",
              "      <td>32.33</td>\n",
              "      <td>7.500</td>\n",
              "      <td>2.0</td>\n",
              "      <td>10.0</td>\n",
              "      <td>5.0</td>\n",
              "      <td>1.585</td>\n",
              "      <td>1.0</td>\n",
              "      <td>0.0</td>\n",
              "      <td>0.0</td>\n",
              "      <td>1.0</td>\n",
              "      <td>1.0</td>\n",
              "      <td>420.0</td>\n",
              "      <td>1.0</td>\n",
              "    </tr>\n",
              "    <tr>\n",
              "      <th>3</th>\n",
              "      <td>15623072.0</td>\n",
              "      <td>1.0</td>\n",
              "      <td>31.57</td>\n",
              "      <td>0.500</td>\n",
              "      <td>2.0</td>\n",
              "      <td>8.0</td>\n",
              "      <td>5.0</td>\n",
              "      <td>0.835</td>\n",
              "      <td>1.0</td>\n",
              "      <td>0.0</td>\n",
              "      <td>0.0</td>\n",
              "      <td>1.0</td>\n",
              "      <td>1.0</td>\n",
              "      <td>320.0</td>\n",
              "      <td>1.0</td>\n",
              "    </tr>\n",
              "    <tr>\n",
              "      <th>4</th>\n",
              "      <td>15788215.0</td>\n",
              "      <td>1.0</td>\n",
              "      <td>31.57</td>\n",
              "      <td>0.375</td>\n",
              "      <td>2.0</td>\n",
              "      <td>2.0</td>\n",
              "      <td>4.0</td>\n",
              "      <td>0.875</td>\n",
              "      <td>1.0</td>\n",
              "      <td>0.0</td>\n",
              "      <td>0.0</td>\n",
              "      <td>1.0</td>\n",
              "      <td>1.0</td>\n",
              "      <td>928.0</td>\n",
              "      <td>1.0</td>\n",
              "    </tr>\n",
              "    <tr>\n",
              "      <th>5</th>\n",
              "      <td>15722535.0</td>\n",
              "      <td>1.0</td>\n",
              "      <td>23.00</td>\n",
              "      <td>0.750</td>\n",
              "      <td>2.0</td>\n",
              "      <td>7.0</td>\n",
              "      <td>4.0</td>\n",
              "      <td>0.500</td>\n",
              "      <td>1.0</td>\n",
              "      <td>0.0</td>\n",
              "      <td>0.0</td>\n",
              "      <td>1.0</td>\n",
              "      <td>1.0</td>\n",
              "      <td>320.0</td>\n",
              "      <td>1.0</td>\n",
              "    </tr>\n",
              "    <tr>\n",
              "      <th>6</th>\n",
              "      <td>15726466.0</td>\n",
              "      <td>1.0</td>\n",
              "      <td>17.42</td>\n",
              "      <td>6.500</td>\n",
              "      <td>2.0</td>\n",
              "      <td>3.0</td>\n",
              "      <td>4.0</td>\n",
              "      <td>0.125</td>\n",
              "      <td>0.0</td>\n",
              "      <td>0.0</td>\n",
              "      <td>0.0</td>\n",
              "      <td>0.0</td>\n",
              "      <td>2.0</td>\n",
              "      <td>60.0</td>\n",
              "      <td>101.0</td>\n",
              "    </tr>\n",
              "    <tr>\n",
              "      <th>7</th>\n",
              "      <td>15763108.0</td>\n",
              "      <td>1.0</td>\n",
              "      <td>28.67</td>\n",
              "      <td>14.500</td>\n",
              "      <td>2.0</td>\n",
              "      <td>2.0</td>\n",
              "      <td>4.0</td>\n",
              "      <td>0.125</td>\n",
              "      <td>0.0</td>\n",
              "      <td>0.0</td>\n",
              "      <td>0.0</td>\n",
              "      <td>0.0</td>\n",
              "      <td>2.0</td>\n",
              "      <td>0.0</td>\n",
              "      <td>287.0</td>\n",
              "    </tr>\n",
              "    <tr>\n",
              "      <th>8</th>\n",
              "      <td>15723989.0</td>\n",
              "      <td>1.0</td>\n",
              "      <td>22.25</td>\n",
              "      <td>9.000</td>\n",
              "      <td>2.0</td>\n",
              "      <td>6.0</td>\n",
              "      <td>4.0</td>\n",
              "      <td>0.085</td>\n",
              "      <td>0.0</td>\n",
              "      <td>0.0</td>\n",
              "      <td>0.0</td>\n",
              "      <td>0.0</td>\n",
              "      <td>2.0</td>\n",
              "      <td>0.0</td>\n",
              "      <td>1.0</td>\n",
              "    </tr>\n",
              "    <tr>\n",
              "      <th>9</th>\n",
              "      <td>15704509.0</td>\n",
              "      <td>1.0</td>\n",
              "      <td>24.58</td>\n",
              "      <td>13.500</td>\n",
              "      <td>1.0</td>\n",
              "      <td>1.0</td>\n",
              "      <td>1.0</td>\n",
              "      <td>0.000</td>\n",
              "      <td>0.0</td>\n",
              "      <td>0.0</td>\n",
              "      <td>0.0</td>\n",
              "      <td>0.0</td>\n",
              "      <td>2.0</td>\n",
              "      <td>184.0</td>\n",
              "      <td>1.0</td>\n",
              "    </tr>\n",
              "    <tr>\n",
              "      <th>10</th>\n",
              "      <td>15708236.0</td>\n",
              "      <td>1.0</td>\n",
              "      <td>18.58</td>\n",
              "      <td>5.710</td>\n",
              "      <td>2.0</td>\n",
              "      <td>2.0</td>\n",
              "      <td>4.0</td>\n",
              "      <td>0.540</td>\n",
              "      <td>0.0</td>\n",
              "      <td>0.0</td>\n",
              "      <td>0.0</td>\n",
              "      <td>0.0</td>\n",
              "      <td>2.0</td>\n",
              "      <td>120.0</td>\n",
              "      <td>1.0</td>\n",
              "    </tr>\n",
              "    <tr>\n",
              "      <th>11</th>\n",
              "      <td>15686670.0</td>\n",
              "      <td>1.0</td>\n",
              "      <td>26.83</td>\n",
              "      <td>0.540</td>\n",
              "      <td>2.0</td>\n",
              "      <td>4.0</td>\n",
              "      <td>1.0</td>\n",
              "      <td>0.000</td>\n",
              "      <td>0.0</td>\n",
              "      <td>0.0</td>\n",
              "      <td>0.0</td>\n",
              "      <td>0.0</td>\n",
              "      <td>2.0</td>\n",
              "      <td>100.0</td>\n",
              "      <td>1.0</td>\n",
              "    </tr>\n",
              "    <tr>\n",
              "      <th>12</th>\n",
              "      <td>15736420.0</td>\n",
              "      <td>1.0</td>\n",
              "      <td>22.08</td>\n",
              "      <td>2.335</td>\n",
              "      <td>2.0</td>\n",
              "      <td>4.0</td>\n",
              "      <td>4.0</td>\n",
              "      <td>0.750</td>\n",
              "      <td>0.0</td>\n",
              "      <td>0.0</td>\n",
              "      <td>0.0</td>\n",
              "      <td>0.0</td>\n",
              "      <td>2.0</td>\n",
              "      <td>180.0</td>\n",
              "      <td>1.0</td>\n",
              "    </tr>\n",
              "    <tr>\n",
              "      <th>13</th>\n",
              "      <td>15632275.0</td>\n",
              "      <td>1.0</td>\n",
              "      <td>22.75</td>\n",
              "      <td>11.500</td>\n",
              "      <td>2.0</td>\n",
              "      <td>3.0</td>\n",
              "      <td>4.0</td>\n",
              "      <td>0.415</td>\n",
              "      <td>0.0</td>\n",
              "      <td>0.0</td>\n",
              "      <td>0.0</td>\n",
              "      <td>0.0</td>\n",
              "      <td>2.0</td>\n",
              "      <td>0.0</td>\n",
              "      <td>1.0</td>\n",
              "    </tr>\n",
              "    <tr>\n",
              "      <th>14</th>\n",
              "      <td>15748691.0</td>\n",
              "      <td>1.0</td>\n",
              "      <td>36.08</td>\n",
              "      <td>2.540</td>\n",
              "      <td>2.0</td>\n",
              "      <td>1.0</td>\n",
              "      <td>1.0</td>\n",
              "      <td>0.000</td>\n",
              "      <td>0.0</td>\n",
              "      <td>0.0</td>\n",
              "      <td>0.0</td>\n",
              "      <td>0.0</td>\n",
              "      <td>2.0</td>\n",
              "      <td>0.0</td>\n",
              "      <td>1001.0</td>\n",
              "    </tr>\n",
              "    <tr>\n",
              "      <th>15</th>\n",
              "      <td>15727811.0</td>\n",
              "      <td>1.0</td>\n",
              "      <td>18.58</td>\n",
              "      <td>10.290</td>\n",
              "      <td>2.0</td>\n",
              "      <td>1.0</td>\n",
              "      <td>1.0</td>\n",
              "      <td>0.415</td>\n",
              "      <td>0.0</td>\n",
              "      <td>0.0</td>\n",
              "      <td>0.0</td>\n",
              "      <td>0.0</td>\n",
              "      <td>2.0</td>\n",
              "      <td>80.0</td>\n",
              "      <td>1.0</td>\n",
              "    </tr>\n",
              "    <tr>\n",
              "      <th>16</th>\n",
              "      <td>15665590.0</td>\n",
              "      <td>1.0</td>\n",
              "      <td>23.50</td>\n",
              "      <td>2.750</td>\n",
              "      <td>2.0</td>\n",
              "      <td>1.0</td>\n",
              "      <td>1.0</td>\n",
              "      <td>4.500</td>\n",
              "      <td>0.0</td>\n",
              "      <td>0.0</td>\n",
              "      <td>0.0</td>\n",
              "      <td>0.0</td>\n",
              "      <td>2.0</td>\n",
              "      <td>160.0</td>\n",
              "      <td>26.0</td>\n",
              "    </tr>\n",
              "    <tr>\n",
              "      <th>17</th>\n",
              "      <td>15662854.0</td>\n",
              "      <td>0.0</td>\n",
              "      <td>29.58</td>\n",
              "      <td>1.750</td>\n",
              "      <td>1.0</td>\n",
              "      <td>4.0</td>\n",
              "      <td>4.0</td>\n",
              "      <td>1.250</td>\n",
              "      <td>0.0</td>\n",
              "      <td>0.0</td>\n",
              "      <td>0.0</td>\n",
              "      <td>1.0</td>\n",
              "      <td>2.0</td>\n",
              "      <td>280.0</td>\n",
              "      <td>1.0</td>\n",
              "    </tr>\n",
              "    <tr>\n",
              "      <th>18</th>\n",
              "      <td>15638983.0</td>\n",
              "      <td>0.0</td>\n",
              "      <td>56.83</td>\n",
              "      <td>4.250</td>\n",
              "      <td>1.0</td>\n",
              "      <td>1.0</td>\n",
              "      <td>1.0</td>\n",
              "      <td>5.000</td>\n",
              "      <td>0.0</td>\n",
              "      <td>0.0</td>\n",
              "      <td>0.0</td>\n",
              "      <td>1.0</td>\n",
              "      <td>2.0</td>\n",
              "      <td>0.0</td>\n",
              "      <td>5.0</td>\n",
              "    </tr>\n",
              "    <tr>\n",
              "      <th>19</th>\n",
              "      <td>15623210.0</td>\n",
              "      <td>0.0</td>\n",
              "      <td>26.58</td>\n",
              "      <td>2.540</td>\n",
              "      <td>1.0</td>\n",
              "      <td>1.0</td>\n",
              "      <td>1.0</td>\n",
              "      <td>0.000</td>\n",
              "      <td>0.0</td>\n",
              "      <td>0.0</td>\n",
              "      <td>0.0</td>\n",
              "      <td>1.0</td>\n",
              "      <td>2.0</td>\n",
              "      <td>180.0</td>\n",
              "      <td>61.0</td>\n",
              "    </tr>\n",
              "    <tr>\n",
              "      <th>20</th>\n",
              "      <td>15570508.0</td>\n",
              "      <td>0.0</td>\n",
              "      <td>51.92</td>\n",
              "      <td>6.500</td>\n",
              "      <td>2.0</td>\n",
              "      <td>3.0</td>\n",
              "      <td>5.0</td>\n",
              "      <td>3.085</td>\n",
              "      <td>0.0</td>\n",
              "      <td>0.0</td>\n",
              "      <td>0.0</td>\n",
              "      <td>1.0</td>\n",
              "      <td>2.0</td>\n",
              "      <td>73.0</td>\n",
              "      <td>1.0</td>\n",
              "    </tr>\n",
              "    <tr>\n",
              "      <th>21</th>\n",
              "      <td>15795527.0</td>\n",
              "      <td>0.0</td>\n",
              "      <td>42.25</td>\n",
              "      <td>1.750</td>\n",
              "      <td>1.0</td>\n",
              "      <td>8.0</td>\n",
              "      <td>4.0</td>\n",
              "      <td>0.000</td>\n",
              "      <td>0.0</td>\n",
              "      <td>0.0</td>\n",
              "      <td>0.0</td>\n",
              "      <td>1.0</td>\n",
              "      <td>2.0</td>\n",
              "      <td>150.0</td>\n",
              "      <td>2.0</td>\n",
              "    </tr>\n",
              "    <tr>\n",
              "      <th>22</th>\n",
              "      <td>15641733.0</td>\n",
              "      <td>0.0</td>\n",
              "      <td>50.25</td>\n",
              "      <td>0.835</td>\n",
              "      <td>2.0</td>\n",
              "      <td>6.0</td>\n",
              "      <td>4.0</td>\n",
              "      <td>0.500</td>\n",
              "      <td>0.0</td>\n",
              "      <td>0.0</td>\n",
              "      <td>0.0</td>\n",
              "      <td>1.0</td>\n",
              "      <td>2.0</td>\n",
              "      <td>240.0</td>\n",
              "      <td>118.0</td>\n",
              "    </tr>\n",
              "    <tr>\n",
              "      <th>23</th>\n",
              "      <td>15660144.0</td>\n",
              "      <td>0.0</td>\n",
              "      <td>26.17</td>\n",
              "      <td>2.000</td>\n",
              "      <td>2.0</td>\n",
              "      <td>5.0</td>\n",
              "      <td>3.0</td>\n",
              "      <td>0.000</td>\n",
              "      <td>0.0</td>\n",
              "      <td>0.0</td>\n",
              "      <td>0.0</td>\n",
              "      <td>1.0</td>\n",
              "      <td>2.0</td>\n",
              "      <td>276.0</td>\n",
              "      <td>2.0</td>\n",
              "    </tr>\n",
              "    <tr>\n",
              "      <th>24</th>\n",
              "      <td>15617991.0</td>\n",
              "      <td>0.0</td>\n",
              "      <td>34.83</td>\n",
              "      <td>1.250</td>\n",
              "      <td>1.0</td>\n",
              "      <td>3.0</td>\n",
              "      <td>8.0</td>\n",
              "      <td>0.500</td>\n",
              "      <td>0.0</td>\n",
              "      <td>0.0</td>\n",
              "      <td>0.0</td>\n",
              "      <td>1.0</td>\n",
              "      <td>2.0</td>\n",
              "      <td>160.0</td>\n",
              "      <td>1.0</td>\n",
              "    </tr>\n",
              "    <tr>\n",
              "      <th>25</th>\n",
              "      <td>15696120.0</td>\n",
              "      <td>0.0</td>\n",
              "      <td>33.25</td>\n",
              "      <td>2.500</td>\n",
              "      <td>1.0</td>\n",
              "      <td>8.0</td>\n",
              "      <td>4.0</td>\n",
              "      <td>2.500</td>\n",
              "      <td>0.0</td>\n",
              "      <td>0.0</td>\n",
              "      <td>0.0</td>\n",
              "      <td>1.0</td>\n",
              "      <td>2.0</td>\n",
              "      <td>0.0</td>\n",
              "      <td>3.0</td>\n",
              "    </tr>\n",
              "    <tr>\n",
              "      <th>26</th>\n",
              "      <td>15641007.0</td>\n",
              "      <td>0.0</td>\n",
              "      <td>25.25</td>\n",
              "      <td>12.500</td>\n",
              "      <td>2.0</td>\n",
              "      <td>2.0</td>\n",
              "      <td>4.0</td>\n",
              "      <td>1.000</td>\n",
              "      <td>0.0</td>\n",
              "      <td>0.0</td>\n",
              "      <td>0.0</td>\n",
              "      <td>1.0</td>\n",
              "      <td>2.0</td>\n",
              "      <td>180.0</td>\n",
              "      <td>1063.0</td>\n",
              "    </tr>\n",
              "  </tbody>\n",
              "</table>\n",
              "</div>"
            ],
            "text/plain": [
              "            0    1      2       3    4   ...   10   11   12     13      14\n",
              "0   15686461.0  1.0  25.00  12.500  2.0  ...  0.0  1.0  1.0   20.0     1.0\n",
              "1   15686885.0  1.0  37.17   4.000  2.0  ...  0.0  1.0  1.0  280.0     1.0\n",
              "2   15680895.0  1.0  32.33   7.500  2.0  ...  0.0  1.0  1.0  420.0     1.0\n",
              "3   15623072.0  1.0  31.57   0.500  2.0  ...  0.0  1.0  1.0  320.0     1.0\n",
              "4   15788215.0  1.0  31.57   0.375  2.0  ...  0.0  1.0  1.0  928.0     1.0\n",
              "5   15722535.0  1.0  23.00   0.750  2.0  ...  0.0  1.0  1.0  320.0     1.0\n",
              "6   15726466.0  1.0  17.42   6.500  2.0  ...  0.0  0.0  2.0   60.0   101.0\n",
              "7   15763108.0  1.0  28.67  14.500  2.0  ...  0.0  0.0  2.0    0.0   287.0\n",
              "8   15723989.0  1.0  22.25   9.000  2.0  ...  0.0  0.0  2.0    0.0     1.0\n",
              "9   15704509.0  1.0  24.58  13.500  1.0  ...  0.0  0.0  2.0  184.0     1.0\n",
              "10  15708236.0  1.0  18.58   5.710  2.0  ...  0.0  0.0  2.0  120.0     1.0\n",
              "11  15686670.0  1.0  26.83   0.540  2.0  ...  0.0  0.0  2.0  100.0     1.0\n",
              "12  15736420.0  1.0  22.08   2.335  2.0  ...  0.0  0.0  2.0  180.0     1.0\n",
              "13  15632275.0  1.0  22.75  11.500  2.0  ...  0.0  0.0  2.0    0.0     1.0\n",
              "14  15748691.0  1.0  36.08   2.540  2.0  ...  0.0  0.0  2.0    0.0  1001.0\n",
              "15  15727811.0  1.0  18.58  10.290  2.0  ...  0.0  0.0  2.0   80.0     1.0\n",
              "16  15665590.0  1.0  23.50   2.750  2.0  ...  0.0  0.0  2.0  160.0    26.0\n",
              "17  15662854.0  0.0  29.58   1.750  1.0  ...  0.0  1.0  2.0  280.0     1.0\n",
              "18  15638983.0  0.0  56.83   4.250  1.0  ...  0.0  1.0  2.0    0.0     5.0\n",
              "19  15623210.0  0.0  26.58   2.540  1.0  ...  0.0  1.0  2.0  180.0    61.0\n",
              "20  15570508.0  0.0  51.92   6.500  2.0  ...  0.0  1.0  2.0   73.0     1.0\n",
              "21  15795527.0  0.0  42.25   1.750  1.0  ...  0.0  1.0  2.0  150.0     2.0\n",
              "22  15641733.0  0.0  50.25   0.835  2.0  ...  0.0  1.0  2.0  240.0   118.0\n",
              "23  15660144.0  0.0  26.17   2.000  2.0  ...  0.0  1.0  2.0  276.0     2.0\n",
              "24  15617991.0  0.0  34.83   1.250  1.0  ...  0.0  1.0  2.0  160.0     1.0\n",
              "25  15696120.0  0.0  33.25   2.500  1.0  ...  0.0  1.0  2.0    0.0     3.0\n",
              "26  15641007.0  0.0  25.25  12.500  2.0  ...  0.0  1.0  2.0  180.0  1063.0\n",
              "\n",
              "[27 rows x 15 columns]"
            ]
          },
          "metadata": {},
          "execution_count": 27
        }
      ]
    },
    {
      "cell_type": "code",
      "metadata": {
        "id": "54a4NnJo8761",
        "colab": {
          "base_uri": "https://localhost:8080/"
        },
        "outputId": "8390c65b-088e-466c-f150-48d5fd2f94f4"
      },
      "source": [
        "print('Fraud Customer IDs')\n",
        "for i in frauds[:, 0]:\n",
        "  print(int(i))"
      ],
      "execution_count": 28,
      "outputs": [
        {
          "output_type": "stream",
          "name": "stdout",
          "text": [
            "Fraud Customer IDs\n",
            "15686461\n",
            "15686885\n",
            "15680895\n",
            "15623072\n",
            "15788215\n",
            "15722535\n",
            "15726466\n",
            "15763108\n",
            "15723989\n",
            "15704509\n",
            "15708236\n",
            "15686670\n",
            "15736420\n",
            "15632275\n",
            "15748691\n",
            "15727811\n",
            "15665590\n",
            "15662854\n",
            "15638983\n",
            "15623210\n",
            "15570508\n",
            "15795527\n",
            "15641733\n",
            "15660144\n",
            "15617991\n",
            "15696120\n",
            "15641007\n"
          ]
        }
      ]
    },
    {
      "cell_type": "code",
      "metadata": {
        "id": "d4u1p_1bU1gU"
      },
      "source": [
        ""
      ],
      "execution_count": 28,
      "outputs": []
    }
  ]
}